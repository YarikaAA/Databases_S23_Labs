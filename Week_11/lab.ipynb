{
 "cells": [
  {
   "cell_type": "markdown",
   "metadata": {
    "collapsed": false
   },
   "source": [
    "# Lab 11"
   ]
  },
  {
   "cell_type": "markdown",
   "metadata": {
    "collapsed": false
   },
   "source": [
    "## Connect to DBMS"
   ]
  },
  {
   "cell_type": "code",
   "execution_count": 1,
   "metadata": {
    "collapsed": true
   },
   "outputs": [],
   "source": [
    "from pymongo import MongoClient\n",
    "client = MongoClient(\"mongodb://localhost\")\n",
    "collection = client['test']['restaurants']"
   ]
  },
  {
   "cell_type": "markdown",
   "metadata": {
    "collapsed": false
   },
   "source": [
    "## Exercise 1"
   ]
  },
  {
   "attachments": {},
   "cell_type": "markdown",
   "metadata": {
    "collapsed": false
   },
   "source": [
    "### Query all Irish cuisines"
   ]
  },
  {
   "cell_type": "code",
   "execution_count": 2,
   "metadata": {
    "collapsed": false,
    "pycharm": {
     "name": "#%%\n"
    }
   },
   "outputs": [
    {
     "data": {
      "text/plain": [
       "<pymongo.cursor.Cursor at 0x1e201051750>"
      ]
     },
     "execution_count": 2,
     "metadata": {},
     "output_type": "execute_result"
    }
   ],
   "source": [
    "collection.find({'cuisine': 'Irish'})"
   ]
  },
  {
   "cell_type": "markdown",
   "metadata": {
    "collapsed": false
   },
   "source": [
    "To show data we can use `list()` or `for`. Then, I'm going to use `list()` with limit."
   ]
  },
  {
   "cell_type": "code",
   "execution_count": 3,
   "metadata": {
    "collapsed": false,
    "pycharm": {
     "name": "#%%\n"
    }
   },
   "outputs": [
    {
     "data": {
      "text/plain": [
       "[{'_id': ObjectId('642c0efcc8d9f8bb05ccd5f0'),\n",
       "  'address': {'building': '351',\n",
       "   'coord': [-73.98513559999999, 40.7676919],\n",
       "   'street': 'West   57 Street',\n",
       "   'zipcode': '10019'},\n",
       "  'borough': 'Manhattan',\n",
       "  'cuisine': 'Irish',\n",
       "  'grades': [{'date': datetime.datetime(2014, 9, 6, 0, 0),\n",
       "    'grade': 'A',\n",
       "    'score': 2},\n",
       "   {'date': datetime.datetime(2013, 7, 22, 0, 0), 'grade': 'A', 'score': 11},\n",
       "   {'date': datetime.datetime(2012, 7, 31, 0, 0), 'grade': 'A', 'score': 12},\n",
       "   {'date': datetime.datetime(2011, 12, 29, 0, 0), 'grade': 'A', 'score': 12}],\n",
       "  'name': 'Dj Reynolds Pub And Restaurant',\n",
       "  'restaurant_id': '30191841'},\n",
       " {'_id': ObjectId('642c0efcc8d9f8bb05ccd648'),\n",
       "  'address': {'building': '15',\n",
       "   'coord': [-73.9896713, 40.7287978],\n",
       "   'street': 'East    7 Street',\n",
       "   'zipcode': '10003'},\n",
       "  'borough': 'Manhattan',\n",
       "  'cuisine': 'Irish',\n",
       "  'grades': [{'date': datetime.datetime(2014, 6, 7, 0, 0),\n",
       "    'grade': 'A',\n",
       "    'score': 8},\n",
       "   {'date': datetime.datetime(2014, 1, 9, 0, 0), 'grade': 'A', 'score': 10},\n",
       "   {'date': datetime.datetime(2013, 6, 12, 0, 0), 'grade': 'A', 'score': 8},\n",
       "   {'date': datetime.datetime(2012, 5, 21, 0, 0), 'grade': 'A', 'score': 13},\n",
       "   {'date': datetime.datetime(2012, 1, 11, 0, 0), 'grade': 'A', 'score': 9},\n",
       "   {'date': datetime.datetime(2011, 8, 11, 0, 0), 'grade': 'B', 'score': 16}],\n",
       "  'name': \"Mcsorley'S Old Ale House\",\n",
       "  'restaurant_id': '40365075'},\n",
       " {'_id': ObjectId('642c0efcc8d9f8bb05ccd64d'),\n",
       "  'address': {'building': '1616',\n",
       "   'coord': [-73.952449, 40.776325],\n",
       "   'street': '2 Avenue',\n",
       "   'zipcode': '10028'},\n",
       "  'borough': 'Manhattan',\n",
       "  'cuisine': 'Irish',\n",
       "  'grades': [{'date': datetime.datetime(2014, 2, 28, 0, 0),\n",
       "    'grade': 'A',\n",
       "    'score': 2},\n",
       "   {'date': datetime.datetime(2013, 8, 30, 0, 0), 'grade': 'A', 'score': 7},\n",
       "   {'date': datetime.datetime(2012, 8, 27, 0, 0), 'grade': 'A', 'score': 7},\n",
       "   {'date': datetime.datetime(2011, 9, 14, 0, 0), 'grade': 'A', 'score': 9}],\n",
       "  'name': \"Dorrian'S Red Hand Restaurant\",\n",
       "  'restaurant_id': '40365239'},\n",
       " {'_id': ObjectId('642c0efcc8d9f8bb05ccd65d'),\n",
       "  'address': {'building': '146',\n",
       "   'coord': [-74.0056649, 40.7452371],\n",
       "   'street': '10 Avenue',\n",
       "   'zipcode': '10011'},\n",
       "  'borough': 'Manhattan',\n",
       "  'cuisine': 'Irish',\n",
       "  'grades': [{'date': datetime.datetime(2014, 10, 2, 0, 0),\n",
       "    'grade': 'A',\n",
       "    'score': 10},\n",
       "   {'date': datetime.datetime(2013, 9, 10, 0, 0), 'grade': 'A', 'score': 12},\n",
       "   {'date': datetime.datetime(2013, 2, 5, 0, 0), 'grade': 'A', 'score': 12},\n",
       "   {'date': datetime.datetime(2011, 11, 23, 0, 0), 'grade': 'A', 'score': 11}],\n",
       "  'name': \"Moran'S Chelsea\",\n",
       "  'restaurant_id': '40365526'},\n",
       " {'_id': ObjectId('642c0efcc8d9f8bb05ccd66e'),\n",
       "  'address': {'building': '331',\n",
       "   'coord': [-73.87786539999999, 40.8724377],\n",
       "   'street': 'East  204 Street',\n",
       "   'zipcode': '10467'},\n",
       "  'borough': 'Bronx',\n",
       "  'cuisine': 'Irish',\n",
       "  'grades': [{'date': datetime.datetime(2014, 8, 26, 0, 0),\n",
       "    'grade': 'A',\n",
       "    'score': 10},\n",
       "   {'date': datetime.datetime(2014, 3, 26, 0, 0), 'grade': 'B', 'score': 23},\n",
       "   {'date': datetime.datetime(2013, 9, 11, 0, 0), 'grade': 'A', 'score': 13},\n",
       "   {'date': datetime.datetime(2012, 12, 18, 0, 0), 'grade': 'B', 'score': 27},\n",
       "   {'date': datetime.datetime(2011, 10, 20, 0, 0), 'grade': 'A', 'score': 13}],\n",
       "  'name': 'Mcdwyers Pub',\n",
       "  'restaurant_id': '40365893'}]"
      ]
     },
     "execution_count": 3,
     "metadata": {},
     "output_type": "execute_result"
    }
   ],
   "source": [
    "list(collection.find({'cuisine': 'Irish'}))[:5]"
   ]
  },
  {
   "attachments": {},
   "cell_type": "markdown",
   "metadata": {
    "collapsed": false
   },
   "source": [
    "### Query all Irish and Russian cuisines"
   ]
  },
  {
   "cell_type": "code",
   "execution_count": 4,
   "metadata": {
    "collapsed": false,
    "pycharm": {
     "name": "#%%\n"
    }
   },
   "outputs": [
    {
     "data": {
      "text/plain": [
       "[{'_id': ObjectId('642c0efcc8d9f8bb05ccd5f0'),\n",
       "  'address': {'building': '351',\n",
       "   'coord': [-73.98513559999999, 40.7676919],\n",
       "   'street': 'West   57 Street',\n",
       "   'zipcode': '10019'},\n",
       "  'borough': 'Manhattan',\n",
       "  'cuisine': 'Irish',\n",
       "  'grades': [{'date': datetime.datetime(2014, 9, 6, 0, 0),\n",
       "    'grade': 'A',\n",
       "    'score': 2},\n",
       "   {'date': datetime.datetime(2013, 7, 22, 0, 0), 'grade': 'A', 'score': 11},\n",
       "   {'date': datetime.datetime(2012, 7, 31, 0, 0), 'grade': 'A', 'score': 12},\n",
       "   {'date': datetime.datetime(2011, 12, 29, 0, 0), 'grade': 'A', 'score': 12}],\n",
       "  'name': 'Dj Reynolds Pub And Restaurant',\n",
       "  'restaurant_id': '30191841'},\n",
       " {'_id': ObjectId('642c0efcc8d9f8bb05ccd648'),\n",
       "  'address': {'building': '15',\n",
       "   'coord': [-73.9896713, 40.7287978],\n",
       "   'street': 'East    7 Street',\n",
       "   'zipcode': '10003'},\n",
       "  'borough': 'Manhattan',\n",
       "  'cuisine': 'Irish',\n",
       "  'grades': [{'date': datetime.datetime(2014, 6, 7, 0, 0),\n",
       "    'grade': 'A',\n",
       "    'score': 8},\n",
       "   {'date': datetime.datetime(2014, 1, 9, 0, 0), 'grade': 'A', 'score': 10},\n",
       "   {'date': datetime.datetime(2013, 6, 12, 0, 0), 'grade': 'A', 'score': 8},\n",
       "   {'date': datetime.datetime(2012, 5, 21, 0, 0), 'grade': 'A', 'score': 13},\n",
       "   {'date': datetime.datetime(2012, 1, 11, 0, 0), 'grade': 'A', 'score': 9},\n",
       "   {'date': datetime.datetime(2011, 8, 11, 0, 0), 'grade': 'B', 'score': 16}],\n",
       "  'name': \"Mcsorley'S Old Ale House\",\n",
       "  'restaurant_id': '40365075'},\n",
       " {'_id': ObjectId('642c0efcc8d9f8bb05ccd64d'),\n",
       "  'address': {'building': '1616',\n",
       "   'coord': [-73.952449, 40.776325],\n",
       "   'street': '2 Avenue',\n",
       "   'zipcode': '10028'},\n",
       "  'borough': 'Manhattan',\n",
       "  'cuisine': 'Irish',\n",
       "  'grades': [{'date': datetime.datetime(2014, 2, 28, 0, 0),\n",
       "    'grade': 'A',\n",
       "    'score': 2},\n",
       "   {'date': datetime.datetime(2013, 8, 30, 0, 0), 'grade': 'A', 'score': 7},\n",
       "   {'date': datetime.datetime(2012, 8, 27, 0, 0), 'grade': 'A', 'score': 7},\n",
       "   {'date': datetime.datetime(2011, 9, 14, 0, 0), 'grade': 'A', 'score': 9}],\n",
       "  'name': \"Dorrian'S Red Hand Restaurant\",\n",
       "  'restaurant_id': '40365239'},\n",
       " {'_id': ObjectId('642c0efcc8d9f8bb05ccd65d'),\n",
       "  'address': {'building': '146',\n",
       "   'coord': [-74.0056649, 40.7452371],\n",
       "   'street': '10 Avenue',\n",
       "   'zipcode': '10011'},\n",
       "  'borough': 'Manhattan',\n",
       "  'cuisine': 'Irish',\n",
       "  'grades': [{'date': datetime.datetime(2014, 10, 2, 0, 0),\n",
       "    'grade': 'A',\n",
       "    'score': 10},\n",
       "   {'date': datetime.datetime(2013, 9, 10, 0, 0), 'grade': 'A', 'score': 12},\n",
       "   {'date': datetime.datetime(2013, 2, 5, 0, 0), 'grade': 'A', 'score': 12},\n",
       "   {'date': datetime.datetime(2011, 11, 23, 0, 0), 'grade': 'A', 'score': 11}],\n",
       "  'name': \"Moran'S Chelsea\",\n",
       "  'restaurant_id': '40365526'},\n",
       " {'_id': ObjectId('642c0efcc8d9f8bb05ccd66e'),\n",
       "  'address': {'building': '331',\n",
       "   'coord': [-73.87786539999999, 40.8724377],\n",
       "   'street': 'East  204 Street',\n",
       "   'zipcode': '10467'},\n",
       "  'borough': 'Bronx',\n",
       "  'cuisine': 'Irish',\n",
       "  'grades': [{'date': datetime.datetime(2014, 8, 26, 0, 0),\n",
       "    'grade': 'A',\n",
       "    'score': 10},\n",
       "   {'date': datetime.datetime(2014, 3, 26, 0, 0), 'grade': 'B', 'score': 23},\n",
       "   {'date': datetime.datetime(2013, 9, 11, 0, 0), 'grade': 'A', 'score': 13},\n",
       "   {'date': datetime.datetime(2012, 12, 18, 0, 0), 'grade': 'B', 'score': 27},\n",
       "   {'date': datetime.datetime(2011, 10, 20, 0, 0), 'grade': 'A', 'score': 13}],\n",
       "  'name': 'Mcdwyers Pub',\n",
       "  'restaurant_id': '40365893'}]"
      ]
     },
     "execution_count": 4,
     "metadata": {},
     "output_type": "execute_result"
    }
   ],
   "source": [
    "list(collection.find({'cuisine': {'$in': ['Irish', 'Russian']}}))[:5]"
   ]
  },
  {
   "attachments": {},
   "cell_type": "markdown",
   "metadata": {
    "collapsed": false
   },
   "source": [
    "### Find a restaurant with the following address: Prospect Park West 284, 11215"
   ]
  },
  {
   "cell_type": "code",
   "execution_count": 5,
   "metadata": {
    "collapsed": false,
    "pycharm": {
     "name": "#%%\n"
    }
   },
   "outputs": [
    {
     "data": {
      "text/plain": [
       "{'_id': ObjectId('642c0efcc8d9f8bb05ccd601'),\n",
       " 'address': {'building': '284',\n",
       "  'coord': [-73.9829239, 40.6580753],\n",
       "  'street': 'Prospect Park West',\n",
       "  'zipcode': '11215'},\n",
       " 'borough': 'Brooklyn',\n",
       " 'cuisine': 'American',\n",
       " 'grades': [{'date': datetime.datetime(2014, 11, 19, 0, 0),\n",
       "   'grade': 'A',\n",
       "   'score': 11},\n",
       "  {'date': datetime.datetime(2013, 11, 14, 0, 0), 'grade': 'A', 'score': 2},\n",
       "  {'date': datetime.datetime(2012, 12, 5, 0, 0), 'grade': 'A', 'score': 13},\n",
       "  {'date': datetime.datetime(2012, 5, 17, 0, 0), 'grade': 'A', 'score': 11}],\n",
       " 'name': 'The Movable Feast',\n",
       " 'restaurant_id': '40361606'}"
      ]
     },
     "execution_count": 5,
     "metadata": {},
     "output_type": "execute_result"
    }
   ],
   "source": [
    "collection.find_one({'address.street': 'Prospect Park West', 'address.building': '284', 'address.zipcode': '11215'})"
   ]
  },
  {
   "attachments": {},
   "cell_type": "markdown",
   "metadata": {
    "collapsed": false
   },
   "source": [
    "## Exercise 2\n",
    "Insert into the database following restaurant:\n",
    "- Address: Sportivnaya 126, 420500, -73.9557413, 40.7720266\n",
    "- Borough: Innopolis\n",
    "- Cuisine: Serbian\n",
    "- Name: The Best Restaurant\n",
    "- Id: 41712354\n",
    "- Grades:\n",
    "    - A, 11, 04 Apr, 2023"
   ]
  },
  {
   "cell_type": "code",
   "execution_count": 6,
   "metadata": {
    "collapsed": false,
    "pycharm": {
     "name": "#%%\n"
    }
   },
   "outputs": [],
   "source": [
    "import datetime\n",
    "data = {\n",
    "    'address': {'building': '126', 'coord': [-73.9557413, 40.7720266], 'street': 'Sportivnaya', 'zipcode': '420500'},\n",
    "    'borough': 'Innopolis', 'cuisine': 'Serbian',\n",
    "    'grades': [{'date': datetime.datetime(2023, 4, 4, 0, 0), 'grade': 'A', 'score': 11}],\n",
    "    'name': 'The Best Restaurant', 'restaurant_id': '41712354'}\n",
    "result = collection.insert_one(data)"
   ]
  },
  {
   "cell_type": "code",
   "execution_count": 7,
   "metadata": {
    "collapsed": false,
    "pycharm": {
     "name": "#%%\n"
    }
   },
   "outputs": [
    {
     "data": {
      "text/plain": [
       "ObjectId('642c15625e7b10704f606a93')"
      ]
     },
     "execution_count": 7,
     "metadata": {},
     "output_type": "execute_result"
    }
   ],
   "source": [
    "result.inserted_id"
   ]
  },
  {
   "cell_type": "markdown",
   "metadata": {
    "collapsed": false
   },
   "source": [
    "## Exercise 3"
   ]
  },
  {
   "attachments": {},
   "cell_type": "markdown",
   "metadata": {
    "collapsed": false
   },
   "source": [
    "### Delete from the database a single Brooklyn located restaurant"
   ]
  },
  {
   "cell_type": "code",
   "execution_count": 8,
   "metadata": {
    "collapsed": false,
    "pycharm": {
     "name": "#%%\n"
    }
   },
   "outputs": [
    {
     "data": {
      "text/plain": [
       "{'n': 1, 'ok': 1.0}"
      ]
     },
     "execution_count": 8,
     "metadata": {},
     "output_type": "execute_result"
    }
   ],
   "source": [
    "collection.delete_one({'borough': 'Brooklyn'}).raw_result"
   ]
  },
  {
   "cell_type": "markdown",
   "metadata": {
    "collapsed": false
   },
   "source": [
    "### Delete from the database all Thai cuisines"
   ]
  },
  {
   "cell_type": "code",
   "execution_count": 9,
   "metadata": {
    "collapsed": false,
    "pycharm": {
     "name": "#%%\n"
    }
   },
   "outputs": [
    {
     "data": {
      "text/plain": [
       "{'n': 0, 'ok': 1.0}"
      ]
     },
     "execution_count": 9,
     "metadata": {},
     "output_type": "execute_result"
    }
   ],
   "source": [
    "collection.delete_many({'cuisine': 'Thai'}).raw_result"
   ]
  },
  {
   "attachments": {},
   "cell_type": "markdown",
   "metadata": {
    "collapsed": false
   },
   "source": [
    "## Exercise 4\n",
    "Query all restaurants on the  Prospect Park West street, for each of them do the following:\n",
    "- if it has more than one A grades → delete this restaurant\n",
    "- otherwise, add another A grade to this restaurant"
   ]
  },
  {
   "cell_type": "code",
   "execution_count": 10,
   "metadata": {
    "collapsed": false,
    "pycharm": {
     "name": "#%%\n"
    }
   },
   "outputs": [],
   "source": [
    "rests_on_street = collection.find({'address.street': 'Prospect Park West', 'grades.grade': 'A'})"
   ]
  },
  {
   "cell_type": "code",
   "execution_count": 11,
   "metadata": {
    "collapsed": false,
    "pycharm": {
     "name": "#%%\n"
    }
   },
   "outputs": [],
   "source": [
    "rests_with_aa = []\n",
    "for e in rests_on_street:\n",
    "    a_counter = 0\n",
    "    for g in e['grades']:\n",
    "        if g['grade'] == 'A':\n",
    "            a_counter += 1\n",
    "    if a_counter > 1:\n",
    "        collection.delete_one(e)\n",
    "    else:\n",
    "        collection.update_one(e, {'$push': {'grades': {'date': datetime.datetime(2023, 4, 4, 0, 0), 'grade': 'A', 'score': 11}}})"
   ]
  }
 ],
 "metadata": {
  "kernelspec": {
   "display_name": "Python 3",
   "language": "python",
   "name": "python3"
  },
  "language_info": {
   "codemirror_mode": {
    "name": "ipython",
    "version": 3
   },
   "file_extension": ".py",
   "mimetype": "text/x-python",
   "name": "python",
   "nbconvert_exporter": "python",
   "pygments_lexer": "ipython3",
   "version": "3.10.10"
  }
 },
 "nbformat": 4,
 "nbformat_minor": 0
}
